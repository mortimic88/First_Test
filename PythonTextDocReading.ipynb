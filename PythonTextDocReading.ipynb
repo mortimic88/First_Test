{
 "cells": [
  {
   "cell_type": "code",
   "execution_count": 147,
   "id": "9cea2c38-ec98-485f-9e3f-b9989b818587",
   "metadata": {
    "tags": []
   },
   "outputs": [],
   "source": [
    "import pyspark\n",
    "from collections import Counter"
   ]
  },
  {
   "cell_type": "code",
   "execution_count": 195,
   "id": "e94d9e4a-65aa-42c4-9440-fc44f13d1743",
   "metadata": {
    "tags": []
   },
   "outputs": [],
   "source": [
    "lines = open(r\"C:\\Users\\morti\\OneDrive\\Desktop\\Job_Practice\\PythonTextPractice.txt\",'r').readlines()\n",
    "lines1 = open(r\"C:\\Users\\morti\\OneDrive\\Desktop\\Job_Practice\\PythonTextPractice.txt\",'r').read()\n",
    "job = open(r\"C:\\Users\\morti\\OneDrive\\Desktop\\Job Stuff\\Job_Practice\\Job Word Dictionaries.txt\",'r').read()"
   ]
  },
  {
   "cell_type": "code",
   "execution_count": 123,
   "id": "dae0fea6-17c3-402e-9c3c-249869293316",
   "metadata": {
    "tags": []
   },
   "outputs": [
    {
     "name": "stdout",
     "output_type": "stream",
     "text": [
      "<class 'str'>\n",
      "This is going to be a practice test because I'm used to inputing text information from java.\n",
      "This is a test and gus is annoying me right now.\n",
      "New line just to see how the quotes change.\n",
      "Now, I shall test out how to deal with commas.\n",
      "Another [test]/? to filter out<,. everything but letters &and white 9space.\n"
     ]
    }
   ],
   "source": [
    "print(type(lines1))\n",
    "print(lines1)"
   ]
  },
  {
   "cell_type": "code",
   "execution_count": 117,
   "id": "0d852051-565d-432a-b00c-ea96f90374a2",
   "metadata": {
    "tags": []
   },
   "outputs": [
    {
     "name": "stdout",
     "output_type": "stream",
     "text": [
      "Testing out newlines stuff.\n",
      "So hopefully this works.\n"
     ]
    }
   ],
   "source": [
    "stringTest1 = 'Testing out newlines stuff.'\n",
    "stringTest2 = 'So hopefully this works.'\n",
    "stringTest = stringTest1 + \"\\n\" + stringTest2\n",
    "print(stringTest)"
   ]
  },
  {
   "cell_type": "code",
   "execution_count": 119,
   "id": "8350abd7-5bd2-45f4-b452-48f12a366ae4",
   "metadata": {
    "tags": []
   },
   "outputs": [
    {
     "name": "stdout",
     "output_type": "stream",
     "text": [
      "This is going to be a practice test because I'm used to inputing text information from java.\n",
      "This is a test and gus is annoying me right now.\n",
      "New line just to see how the quotes change.\n",
      "Now, I shall test out how to deal with commas.\n",
      "Another [test]/? to filter out<,. everything but letters &and white 9space.\n"
     ]
    }
   ],
   "source": [
    "string1 = lines[3]\n",
    "string1 = string1.replace(\",\",\"\")\n",
    "string1\n",
    "string = lines[0]+lines[1]+lines[2]+lines[3]+lines[4]\n",
    "#string = string.replace(\"\\n\",\" \")\n",
    "print(string)"
   ]
  },
  {
   "cell_type": "code",
   "execution_count": 165,
   "id": "bd02cd19-91f7-4279-a253-5dcdabc186d2",
   "metadata": {
    "tags": []
   },
   "outputs": [
    {
     "name": "stdout",
     "output_type": "stream",
     "text": [
      "<class 'str'>\n"
     ]
    }
   ],
   "source": [
    "mylist = set('ABCDEFGHIJKLMNOPQRSTUVWXYZ abcdefghijklmnopqrstuvwxyz\\n')\n",
    "print(type(lines1))\n",
    "vv = filter(lambda x: x in mylist, lines1)\n",
    "vv = ''.join(vv)\n",
    "vv = vv.split()\n",
    "vset = set(vv)\n",
    "#print(vv)\n",
    "#print(vset)\n",
    "counterOb = Counter(vv)\n",
    "#counterOb"
   ]
  },
  {
   "cell_type": "code",
   "execution_count": 201,
   "id": "ae86a536-672a-4499-86f1-3f38668ed4a7",
   "metadata": {
    "tags": []
   },
   "outputs": [],
   "source": [
    "job = job.lower()\n",
    "job = job.replace(\"/\",\" \")"
   ]
  },
  {
   "cell_type": "code",
   "execution_count": 203,
   "id": "55a8fabb-beb0-465b-938b-8f9e8bf74e59",
   "metadata": {
    "tags": []
   },
   "outputs": [
    {
     "data": {
      "text/plain": [
       "Counter({'and': 20,\n",
       "         'data': 13,\n",
       "         'a': 13,\n",
       "         'with': 12,\n",
       "         'in': 11,\n",
       "         'or': 11,\n",
       "         'experience': 10,\n",
       "         'to': 8,\n",
       "         'tools': 7,\n",
       "         'science': 6,\n",
       "         'of': 6,\n",
       "         'strong': 5,\n",
       "         'skills': 5,\n",
       "         'bachelors': 4,\n",
       "         'degree': 4,\n",
       "         'statistics': 4,\n",
       "         'analysis': 4,\n",
       "         'mathematics': 3,\n",
       "         'computer': 3,\n",
       "         'related': 3,\n",
       "         'field': 3,\n",
       "         'proficiency': 3,\n",
       "         'sql': 3,\n",
       "         'power': 3,\n",
       "         'bi': 3,\n",
       "         'working': 3,\n",
       "         'statistical': 3,\n",
       "         'business': 3,\n",
       "         'analytics': 3,\n",
       "         'analytical': 2,\n",
       "         'excel': 2,\n",
       "         'python': 2,\n",
       "         'r': 2,\n",
       "         'visualization': 2,\n",
       "         'as': 2,\n",
       "         'tableau': 2,\n",
       "         'excellent': 2,\n",
       "         'communication': 2,\n",
       "         'ability': 2,\n",
       "         'problemsolving': 2,\n",
       "         'role': 2,\n",
       "         'on': 2,\n",
       "         'eg': 2,\n",
       "         'attention': 2,\n",
       "         'detail': 2,\n",
       "         'knowledge': 2,\n",
       "         'is': 2,\n",
       "         'plus': 2,\n",
       "         'economics': 2,\n",
       "         'veterinary': 2,\n",
       "         'accounting': 2,\n",
       "         'basic': 2,\n",
       "         'interpretation': 1,\n",
       "         'modeling': 1,\n",
       "         'programming': 1,\n",
       "         'languages': 1,\n",
       "         'including': 1,\n",
       "         'such': 1,\n",
       "         'the': 1,\n",
       "         'translate': 1,\n",
       "         'complex': 1,\n",
       "         'into': 1,\n",
       "         'clear': 1,\n",
       "         'insights': 1,\n",
       "         'detailoriented': 1,\n",
       "         'critical': 1,\n",
       "         'thinking': 1,\n",
       "         'highly': 1,\n",
       "         'organized': 1,\n",
       "         'capable': 1,\n",
       "         'managing': 1,\n",
       "         'multiple': 1,\n",
       "         'tasks': 1,\n",
       "         'deadlines': 1,\n",
       "         'collaborative': 1,\n",
       "         'team': 1,\n",
       "         'player': 1,\n",
       "         'diverse': 1,\n",
       "         'inclusive': 1,\n",
       "         'mindset': 1,\n",
       "         'willingness': 1,\n",
       "         'learn': 1,\n",
       "         'adapt': 1,\n",
       "         'new': 1,\n",
       "         'techniques': 1,\n",
       "         'fastpaced': 1,\n",
       "         'crossfunctional': 1,\n",
       "         'environment': 1,\n",
       "         'proven': 1,\n",
       "         'analyst': 1,\n",
       "         'similar': 1,\n",
       "         'at': 1,\n",
       "         'least': 1,\n",
       "         'years': 1,\n",
       "         'focus': 1,\n",
       "         'dashboard': 1,\n",
       "         'development': 1,\n",
       "         'software': 1,\n",
       "         'large': 1,\n",
       "         'datasets': 1,\n",
       "         'microsoft': 1,\n",
       "         'outlook': 1,\n",
       "         'powerpoint': 1,\n",
       "         'word': 1,\n",
       "         'teams': 1,\n",
       "         'expertise': 1,\n",
       "         'oracle': 1,\n",
       "         'erp': 1,\n",
       "         'ticketing': 1,\n",
       "         'like': 1,\n",
       "         'service': 1,\n",
       "         'now': 1,\n",
       "         'high': 1,\n",
       "         'level': 1,\n",
       "         'motivation': 1,\n",
       "         'desire': 1,\n",
       "         'find': 1,\n",
       "         'creative': 1,\n",
       "         'solutions': 1,\n",
       "         'challenging': 1,\n",
       "         'situations': 1,\n",
       "         'demonstrated': 1,\n",
       "         'projects': 1,\n",
       "         'that': 1,\n",
       "         'require': 1,\n",
       "         'both': 1,\n",
       "         'an': 1,\n",
       "         'deliver': 1,\n",
       "         'deadline': 1,\n",
       "         'presentation': 1,\n",
       "         'finance': 1,\n",
       "         'marketing': 1,\n",
       "         'healthcare': 1,\n",
       "         'administration': 1,\n",
       "         'equivalent': 1,\n",
       "         'work': 1,\n",
       "         'minimum': 1,\n",
       "         'year': 1,\n",
       "         'entry': 1,\n",
       "         'introductory': 1,\n",
       "         'position': 1,\n",
       "         'leveraging': 1,\n",
       "         'this': 1,\n",
       "         'organization': 1,\n",
       "         'clinic': 1,\n",
       "         'pursuing': 1,\n",
       "         'management': 1,\n",
       "         'agricultural': 1,\n",
       "         'junior': 1,\n",
       "         'senior': 1,\n",
       "         'standing': 1,\n",
       "         'objects': 1,\n",
       "         'other': 1,\n",
       "         'financial': 1,\n",
       "         'principles': 1,\n",
       "         'gaap': 1})"
      ]
     },
     "execution_count": 203,
     "metadata": {},
     "output_type": "execute_result"
    }
   ],
   "source": [
    "r = filter(lambda x: x in mylist, job)\n",
    "r = ''.join(r)\n",
    "r = r.split()\n",
    "count = Counter(r)\n",
    "count.most_common(100)\n",
    "count"
   ]
  },
  {
   "cell_type": "code",
   "execution_count": 84,
   "id": "7a87c260-a1e3-4300-b76b-9c5a15dea3f7",
   "metadata": {
    "tags": []
   },
   "outputs": [
    {
     "data": {
      "text/plain": [
       "'This is a test and gus is annoying me right now.\\n'"
      ]
     },
     "execution_count": 84,
     "metadata": {},
     "output_type": "execute_result"
    }
   ],
   "source": [
    "lines[1]"
   ]
  },
  {
   "cell_type": "code",
   "execution_count": 86,
   "id": "dc85d938-00ec-4c83-9e44-3215f6cb0d60",
   "metadata": {
    "tags": []
   },
   "outputs": [
    {
     "data": {
      "text/plain": [
       "'New line just to see how the quotes change.\\n'"
      ]
     },
     "execution_count": 86,
     "metadata": {},
     "output_type": "execute_result"
    }
   ],
   "source": [
    "lines[2]"
   ]
  },
  {
   "cell_type": "code",
   "execution_count": 88,
   "id": "3a835831-1bae-4657-a312-51d9aa496d00",
   "metadata": {
    "tags": []
   },
   "outputs": [],
   "source": [
    "stringList1 = string1.split()"
   ]
  },
  {
   "cell_type": "code",
   "execution_count": 90,
   "id": "94226406-1940-489e-9f18-72f5d98356c0",
   "metadata": {
    "tags": []
   },
   "outputs": [
    {
     "data": {
      "text/plain": [
       "['Now', 'I', 'shall', 'test', 'out', 'how', 'to', 'deal', 'with', 'commas.']"
      ]
     },
     "execution_count": 90,
     "metadata": {},
     "output_type": "execute_result"
    }
   ],
   "source": [
    "stringList1"
   ]
  },
  {
   "cell_type": "code",
   "execution_count": 17,
   "id": "cf9d203f-3d16-4216-a76d-b0e4c7a38c8a",
   "metadata": {
    "tags": []
   },
   "outputs": [
    {
     "data": {
      "text/plain": [
       "['This',\n",
       " 'is',\n",
       " 'going',\n",
       " 'to',\n",
       " 'be',\n",
       " 'a',\n",
       " 'practice',\n",
       " 'test',\n",
       " 'because',\n",
       " \"I'm\",\n",
       " 'used',\n",
       " 'to',\n",
       " 'inputing',\n",
       " 'text',\n",
       " 'information',\n",
       " 'from',\n",
       " 'java.']"
      ]
     },
     "execution_count": 17,
     "metadata": {},
     "output_type": "execute_result"
    }
   ],
   "source": [
    "string2 = lines[0]\n",
    "stringList2 = string2.split()\n",
    "stringList2"
   ]
  },
  {
   "cell_type": "code",
   "execution_count": 19,
   "id": "f3bdcd2b-215f-44b2-8dfc-76a5691c9746",
   "metadata": {
    "tags": []
   },
   "outputs": [
    {
     "data": {
      "text/plain": [
       "'Another [test]/? to filter out<,. everything but letters &and white 9space.'"
      ]
     },
     "execution_count": 19,
     "metadata": {},
     "output_type": "execute_result"
    }
   ],
   "source": [
    "stringList2[9] == \"I'g\"\n",
    "lines[4]"
   ]
  },
  {
   "cell_type": "code",
   "execution_count": 96,
   "id": "ce2f61ab-7704-47e7-915e-710de86b2a32",
   "metadata": {
    "tags": []
   },
   "outputs": [
    {
     "name": "stdout",
     "output_type": "stream",
     "text": [
      "['A', 'n', 'o', 't', 'h', 'e', 'r', ' ', 't', 'e', 's', 't', ' ', 't', 'o', ' ', 'f', 'i', 'l', 't', 'e', 'r', ' ', 'o', 'u', 't', ' ', 'e', 'v', 'e', 'r', 'y', 't', 'h', 'i', 'n', 'g', ' ', 'b', 'u', 't', ' ', 'l', 'e', 't', 't', 'e', 'r', 's', ' ', 'a', 'n', 'd', ' ', 'w', 'h', 'i', 't', 'e', ' ', 's', 'p', 'a', 'c', 'e']\n",
      "Another test to filter out everything but letters and white space\n",
      "<class 'filter'>\n"
     ]
    }
   ],
   "source": [
    "string0 = lines[4]\n",
    "mylist = set('ABCDEFGHIJKLMNOPQRSTUVWXYZ abcdefghijklmnopqrstuvwxyz')\n",
    "v = filter(mylist.__contains__, string0)\n",
    "vv = filter(lambda x: x in mylist, string0)\n",
    "mm = list(vv)\n",
    "print(mm)\n",
    "m = list(v)\n",
    "newlist = ''.join(filter(mylist.__contains__,string0))\n",
    "#print(m)\n",
    "e = ''.join(m)\n",
    "print(e)\n",
    "print(type(v))"
   ]
  },
  {
   "cell_type": "code",
   "execution_count": 51,
   "id": "988d9157-c0a8-44e9-a9ca-64a453211042",
   "metadata": {
    "tags": []
   },
   "outputs": [
    {
     "name": "stdout",
     "output_type": "stream",
     "text": [
      "Another test to filter out everything but letters and white space\n",
      "\n",
      "Another test to filter out everything but letters and white space"
     ]
    }
   ],
   "source": [
    "for b in m:\n",
    "    print(b, end = '')\n",
    "print('\\n')\n",
    "for n in mm:\n",
    "    print(n, end = '')"
   ]
  },
  {
   "cell_type": "code",
   "execution_count": 53,
   "id": "6745629a-7f0a-48a8-9ee4-ea00930c094f",
   "metadata": {
    "tags": []
   },
   "outputs": [
    {
     "name": "stdout",
     "output_type": "stream",
     "text": [
      "{'6', '7', '5', '4', '2', '3', '1'}\n"
     ]
    },
    {
     "data": {
      "text/plain": [
       "tuple"
      ]
     },
     "execution_count": 53,
     "metadata": {},
     "output_type": "execute_result"
    }
   ],
   "source": [
    "myset = set((1,2,3,4,5,6,7))\n",
    "otherset = set('1234567')\n",
    "otherSet = set(('a','b','c','d','e','f','g'))\n",
    "print(otherset)\n",
    "#print(myset)\n",
    "#print(otherSet)\n",
    "#print(mylist)\n",
    "ting = ('a','b','c')\n",
    "type(ting)"
   ]
  },
  {
   "cell_type": "code",
   "execution_count": 125,
   "id": "232a551e-a317-406f-bd94-9f7a455e953a",
   "metadata": {
    "tags": []
   },
   "outputs": [
    {
     "data": {
      "text/plain": [
       "'  WorldW Worldo Worldr Worldl Worldd'"
      ]
     },
     "execution_count": 125,
     "metadata": {},
     "output_type": "execute_result"
    }
   ],
   "source": [
    "bb = 'Hello'\n",
    "cc = ' World'\n",
    "cc.join(cc)"
   ]
  },
  {
   "cell_type": "code",
   "execution_count": 67,
   "id": "9313e9a1-1d68-4eff-ad3b-51af8d22ab33",
   "metadata": {},
   "outputs": [
    {
     "name": "stdout",
     "output_type": "stream",
     "text": [
      "<class 'list'>\n",
      "[2, 4, 6]\n",
      "2 4 6 "
     ]
    }
   ],
   "source": [
    "r = [1,2,3]\n",
    "d = list(map(lambda x: x*2, r))\n",
    "print(type(d))\n",
    "print(d)\n",
    "for i in d:\n",
    "    print(i, end = ' ')"
   ]
  },
  {
   "cell_type": "code",
   "execution_count": 69,
   "id": "856de5e4-f29b-49b0-b67d-d15486b8cfcc",
   "metadata": {
    "tags": []
   },
   "outputs": [
    {
     "name": "stdout",
     "output_type": "stream",
     "text": [
      "2 4 6 "
     ]
    }
   ],
   "source": [
    "for i in d:\n",
    "    print(i, end = ' ')"
   ]
  },
  {
   "cell_type": "code",
   "execution_count": null,
   "id": "98e037c6-c29a-4d3c-869b-df73bdad225d",
   "metadata": {},
   "outputs": [],
   "source": []
  }
 ],
 "metadata": {
  "kernelspec": {
   "display_name": "Python 3 (ipykernel)",
   "language": "python",
   "name": "python3"
  },
  "language_info": {
   "codemirror_mode": {
    "name": "ipython",
    "version": 3
   },
   "file_extension": ".py",
   "mimetype": "text/x-python",
   "name": "python",
   "nbconvert_exporter": "python",
   "pygments_lexer": "ipython3",
   "version": "3.11.5"
  }
 },
 "nbformat": 4,
 "nbformat_minor": 5
}
